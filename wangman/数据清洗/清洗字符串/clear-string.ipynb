{
 "cells": [
  {
   "cell_type": "code",
   "execution_count": 2,
   "metadata": {},
   "outputs": [],
   "source": [
    "import pandas as pd"
   ]
  },
  {
   "cell_type": "code",
   "execution_count": 32,
   "metadata": {},
   "outputs": [
    {
     "data": {
      "text/html": [
       "<div>\n",
       "<style scoped>\n",
       "    .dataframe tbody tr th:only-of-type {\n",
       "        vertical-align: middle;\n",
       "    }\n",
       "\n",
       "    .dataframe tbody tr th {\n",
       "        vertical-align: top;\n",
       "    }\n",
       "\n",
       "    .dataframe thead th {\n",
       "        text-align: right;\n",
       "    }\n",
       "</style>\n",
       "<table border=\"1\" class=\"dataframe\">\n",
       "  <thead>\n",
       "    <tr style=\"text-align: right;\">\n",
       "      <th></th>\n",
       "      <th>day</th>\n",
       "      <th>name</th>\n",
       "      <th>status</th>\n",
       "      <th>cid</th>\n",
       "    </tr>\n",
       "  </thead>\n",
       "  <tbody>\n",
       "    <tr>\n",
       "      <th>0</th>\n",
       "      <td>Wednesday</td>\n",
       "      <td>Emily Johnson</td>\n",
       "      <td>active</td>\n",
       "      <td>abc12345</td>\n",
       "    </tr>\n",
       "    <tr>\n",
       "      <th>1</th>\n",
       "      <td>Wednesday</td>\n",
       "      <td>Emily Johnson</td>\n",
       "      <td>active</td>\n",
       "      <td>abc12789</td>\n",
       "    </tr>\n",
       "    <tr>\n",
       "      <th>2</th>\n",
       "      <td>Friday</td>\n",
       "      <td>Mark Thompson</td>\n",
       "      <td>pending</td>\n",
       "      <td>67890</td>\n",
       "    </tr>\n",
       "    <tr>\n",
       "      <th>3</th>\n",
       "      <td>Saturday</td>\n",
       "      <td>Maria Rodriguez</td>\n",
       "      <td>inactive</td>\n",
       "      <td>AB12C</td>\n",
       "    </tr>\n",
       "    <tr>\n",
       "      <th>4</th>\n",
       "      <td>Sunday</td>\n",
       "      <td>David Lee</td>\n",
       "      <td>active</td>\n",
       "      <td>34567</td>\n",
       "    </tr>\n",
       "    <tr>\n",
       "      <th>5</th>\n",
       "      <td>Tuesday</td>\n",
       "      <td>Samantha Smith</td>\n",
       "      <td>pending</td>\n",
       "      <td>DEFGH</td>\n",
       "    </tr>\n",
       "    <tr>\n",
       "      <th>6</th>\n",
       "      <td>Monday</td>\n",
       "      <td>Michael Chen</td>\n",
       "      <td>inactive</td>\n",
       "      <td>IJKL0</td>\n",
       "    </tr>\n",
       "    <tr>\n",
       "      <th>7</th>\n",
       "      <td>Thursday</td>\n",
       "      <td>Olivia Martinez</td>\n",
       "      <td>active</td>\n",
       "      <td>MNOQP</td>\n",
       "    </tr>\n",
       "  </tbody>\n",
       "</table>\n",
       "</div>"
      ],
      "text/plain": [
       "         day             name    status       cid\n",
       "0  Wednesday    Emily Johnson    active  abc12345\n",
       "1  Wednesday    Emily Johnson    active  abc12789\n",
       "2     Friday    Mark Thompson   pending     67890\n",
       "3   Saturday  Maria Rodriguez  inactive     AB12C\n",
       "4     Sunday        David Lee    active     34567\n",
       "5    Tuesday   Samantha Smith   pending     DEFGH\n",
       "6     Monday     Michael Chen  inactive     IJKL0\n",
       "7   Thursday  Olivia Martinez    active     MNOQP"
      ]
     },
     "execution_count": 32,
     "metadata": {},
     "output_type": "execute_result"
    }
   ],
   "source": [
    "data = pd.read_csv(\"demo-data.csv\")\n",
    "data"
   ]
  },
  {
   "cell_type": "code",
   "execution_count": 33,
   "metadata": {},
   "outputs": [
    {
     "data": {
      "text/html": [
       "<div>\n",
       "<style scoped>\n",
       "    .dataframe tbody tr th:only-of-type {\n",
       "        vertical-align: middle;\n",
       "    }\n",
       "\n",
       "    .dataframe tbody tr th {\n",
       "        vertical-align: top;\n",
       "    }\n",
       "\n",
       "    .dataframe thead th {\n",
       "        text-align: right;\n",
       "    }\n",
       "</style>\n",
       "<table border=\"1\" class=\"dataframe\">\n",
       "  <thead>\n",
       "    <tr style=\"text-align: right;\">\n",
       "      <th></th>\n",
       "      <th>day</th>\n",
       "      <th>name</th>\n",
       "      <th>status</th>\n",
       "      <th>cid</th>\n",
       "    </tr>\n",
       "  </thead>\n",
       "  <tbody>\n",
       "    <tr>\n",
       "      <th>0</th>\n",
       "      <td>Wednesday</td>\n",
       "      <td>EMILY JOHNSON</td>\n",
       "      <td>active</td>\n",
       "      <td>abc12345</td>\n",
       "    </tr>\n",
       "    <tr>\n",
       "      <th>1</th>\n",
       "      <td>Wednesday</td>\n",
       "      <td>EMILY JOHNSON</td>\n",
       "      <td>active</td>\n",
       "      <td>abc12789</td>\n",
       "    </tr>\n",
       "    <tr>\n",
       "      <th>2</th>\n",
       "      <td>Friday</td>\n",
       "      <td>MARK THOMPSON</td>\n",
       "      <td>pending</td>\n",
       "      <td>67890</td>\n",
       "    </tr>\n",
       "    <tr>\n",
       "      <th>3</th>\n",
       "      <td>Saturday</td>\n",
       "      <td>MARIA RODRIGUEZ</td>\n",
       "      <td>inactive</td>\n",
       "      <td>AB12C</td>\n",
       "    </tr>\n",
       "    <tr>\n",
       "      <th>4</th>\n",
       "      <td>Sunday</td>\n",
       "      <td>DAVID LEE</td>\n",
       "      <td>active</td>\n",
       "      <td>34567</td>\n",
       "    </tr>\n",
       "    <tr>\n",
       "      <th>5</th>\n",
       "      <td>Tuesday</td>\n",
       "      <td>SAMANTHA SMITH</td>\n",
       "      <td>pending</td>\n",
       "      <td>DEFGH</td>\n",
       "    </tr>\n",
       "    <tr>\n",
       "      <th>6</th>\n",
       "      <td>Monday</td>\n",
       "      <td>MICHAEL CHEN</td>\n",
       "      <td>inactive</td>\n",
       "      <td>IJKL0</td>\n",
       "    </tr>\n",
       "    <tr>\n",
       "      <th>7</th>\n",
       "      <td>Thursday</td>\n",
       "      <td>OLIVIA MARTINEZ</td>\n",
       "      <td>active</td>\n",
       "      <td>MNOQP</td>\n",
       "    </tr>\n",
       "  </tbody>\n",
       "</table>\n",
       "</div>"
      ],
      "text/plain": [
       "         day             name    status       cid\n",
       "0  Wednesday    EMILY JOHNSON    active  abc12345\n",
       "1  Wednesday    EMILY JOHNSON    active  abc12789\n",
       "2     Friday    MARK THOMPSON   pending     67890\n",
       "3   Saturday  MARIA RODRIGUEZ  inactive     AB12C\n",
       "4     Sunday        DAVID LEE    active     34567\n",
       "5    Tuesday   SAMANTHA SMITH   pending     DEFGH\n",
       "6     Monday     MICHAEL CHEN  inactive     IJKL0\n",
       "7   Thursday  OLIVIA MARTINEZ    active     MNOQP"
      ]
     },
     "execution_count": 33,
     "metadata": {},
     "output_type": "execute_result"
    }
   ],
   "source": [
    "data[\"name\"] = data[\"name\"].str.upper()\n",
    "data"
   ]
  },
  {
   "cell_type": "code",
   "execution_count": 34,
   "metadata": {},
   "outputs": [
    {
     "data": {
      "text/plain": [
       "['EMILY JOHNSON',\n",
       " 'EMILY JOHNSON',\n",
       " 'MARK THOMPSON',\n",
       " 'MARIA RODRIGUEZ',\n",
       " 'DAVID LEE',\n",
       " 'SAMANTHA SMITH',\n",
       " 'MICHAEL CHEN',\n",
       " 'OLIVIA MARTINEZ']"
      ]
     },
     "execution_count": 34,
     "metadata": {},
     "output_type": "execute_result"
    }
   ],
   "source": [
    "data[\"name\"].tolist()"
   ]
  },
  {
   "cell_type": "code",
   "execution_count": 35,
   "metadata": {},
   "outputs": [
    {
     "data": {
      "text/plain": [
       "['EMILY JOHNSON',\n",
       " 'EMILY JOHNSON',\n",
       " 'MARK THOMPSON',\n",
       " 'MARIA RODRIGUEZ',\n",
       " 'DAVID LEE',\n",
       " 'SAMANTHA SMITH',\n",
       " 'MICHAEL CHEN',\n",
       " 'OLIVIA MARTINEZ']"
      ]
     },
     "execution_count": 35,
     "metadata": {},
     "output_type": "execute_result"
    }
   ],
   "source": [
    "data[\"name\"] = data[\"name\"].str.strip()\n",
    "data[\"name\"].tolist()"
   ]
  },
  {
   "cell_type": "code",
   "execution_count": 36,
   "metadata": {},
   "outputs": [
    {
     "data": {
      "text/plain": [
       "0     True\n",
       "1     True\n",
       "2    False\n",
       "3    False\n",
       "4    False\n",
       "5    False\n",
       "6    False\n",
       "7    False\n",
       "Name: cid, dtype: bool"
      ]
     },
     "execution_count": 36,
     "metadata": {},
     "output_type": "execute_result"
    }
   ],
   "source": [
    "data[\"cid\"].str.startswith(\"abc\")"
   ]
  },
  {
   "cell_type": "code",
   "execution_count": 37,
   "metadata": {},
   "outputs": [
    {
     "data": {
      "text/plain": [
       "0    Wednesday\n",
       "1    Wednesday\n",
       "2       Friday\n",
       "3     Saturday\n",
       "4       Sunday\n",
       "5      Tuesday\n",
       "6       Friday\n",
       "7     Thursday\n",
       "Name: day, dtype: object"
      ]
     },
     "execution_count": 37,
     "metadata": {},
     "output_type": "execute_result"
    }
   ],
   "source": [
    "data[\"day\"].str.replace(\"Monday\",\"Friday\")"
   ]
  },
  {
   "cell_type": "code",
   "execution_count": 44,
   "metadata": {},
   "outputs": [
    {
     "data": {
      "text/html": [
       "<div>\n",
       "<style scoped>\n",
       "    .dataframe tbody tr th:only-of-type {\n",
       "        vertical-align: middle;\n",
       "    }\n",
       "\n",
       "    .dataframe tbody tr th {\n",
       "        vertical-align: top;\n",
       "    }\n",
       "\n",
       "    .dataframe thead th {\n",
       "        text-align: right;\n",
       "    }\n",
       "</style>\n",
       "<table border=\"1\" class=\"dataframe\">\n",
       "  <thead>\n",
       "    <tr style=\"text-align: right;\">\n",
       "      <th></th>\n",
       "      <th>day</th>\n",
       "      <th>name</th>\n",
       "      <th>status</th>\n",
       "      <th>cid</th>\n",
       "    </tr>\n",
       "  </thead>\n",
       "  <tbody>\n",
       "    <tr>\n",
       "      <th>0</th>\n",
       "      <td>Wednesday</td>\n",
       "      <td>EMILY JOHNSON</td>\n",
       "      <td>active</td>\n",
       "      <td>abc12345</td>\n",
       "    </tr>\n",
       "    <tr>\n",
       "      <th>1</th>\n",
       "      <td>Wednesday</td>\n",
       "      <td>EMILY JOHNSON</td>\n",
       "      <td>active</td>\n",
       "      <td>abc12789</td>\n",
       "    </tr>\n",
       "    <tr>\n",
       "      <th>2</th>\n",
       "      <td>Friday</td>\n",
       "      <td>MARK THOMPSON</td>\n",
       "      <td>pending</td>\n",
       "      <td>67890</td>\n",
       "    </tr>\n",
       "    <tr>\n",
       "      <th>3</th>\n",
       "      <td>Saturday</td>\n",
       "      <td>MARIA RODRIGUEZ</td>\n",
       "      <td>inactive</td>\n",
       "      <td>AB12C</td>\n",
       "    </tr>\n",
       "    <tr>\n",
       "      <th>4</th>\n",
       "      <td>Sunday</td>\n",
       "      <td>DAVID LEE</td>\n",
       "      <td>active</td>\n",
       "      <td>34567</td>\n",
       "    </tr>\n",
       "    <tr>\n",
       "      <th>5</th>\n",
       "      <td>Tuesday</td>\n",
       "      <td>SAMANTHA SMITH</td>\n",
       "      <td>pending</td>\n",
       "      <td>DEFGH</td>\n",
       "    </tr>\n",
       "    <tr>\n",
       "      <th>6</th>\n",
       "      <td>Monday</td>\n",
       "      <td>MICHAEL CHEN</td>\n",
       "      <td>inactive</td>\n",
       "      <td>IJKL0</td>\n",
       "    </tr>\n",
       "    <tr>\n",
       "      <th>7</th>\n",
       "      <td>Thursday</td>\n",
       "      <td>OLIVIA MARTINEZ</td>\n",
       "      <td>active</td>\n",
       "      <td>MNOQP</td>\n",
       "    </tr>\n",
       "  </tbody>\n",
       "</table>\n",
       "</div>"
      ],
      "text/plain": [
       "         day             name    status       cid\n",
       "0  Wednesday    EMILY JOHNSON    active  abc12345\n",
       "1  Wednesday    EMILY JOHNSON    active  abc12789\n",
       "2     Friday    MARK THOMPSON   pending     67890\n",
       "3   Saturday  MARIA RODRIGUEZ  inactive     AB12C\n",
       "4     Sunday        DAVID LEE    active     34567\n",
       "5    Tuesday   SAMANTHA SMITH   pending     DEFGH\n",
       "6     Monday     MICHAEL CHEN  inactive     IJKL0\n",
       "7   Thursday  OLIVIA MARTINEZ    active     MNOQP"
      ]
     },
     "execution_count": 44,
     "metadata": {},
     "output_type": "execute_result"
    }
   ],
   "source": [
    "data.replace({\"inactive\":0,\"active\":1})\n",
    "data"
   ]
  },
  {
   "cell_type": "code",
   "execution_count": 41,
   "metadata": {},
   "outputs": [
    {
     "name": "stdout",
     "output_type": "stream",
     "text": [
      "Wednesday\n"
     ]
    }
   ],
   "source": [
    "data_day = data[\"day\"].apply(lambda x: x + \"added\" if x == \"Friday\" else x)\n",
    "print(data_day[0])"
   ]
  },
  {
   "cell_type": "code",
   "execution_count": 43,
   "metadata": {},
   "outputs": [
    {
     "data": {
      "text/html": [
       "<div>\n",
       "<style scoped>\n",
       "    .dataframe tbody tr th:only-of-type {\n",
       "        vertical-align: middle;\n",
       "    }\n",
       "\n",
       "    .dataframe tbody tr th {\n",
       "        vertical-align: top;\n",
       "    }\n",
       "\n",
       "    .dataframe thead th {\n",
       "        text-align: right;\n",
       "    }\n",
       "</style>\n",
       "<table border=\"1\" class=\"dataframe\">\n",
       "  <thead>\n",
       "    <tr style=\"text-align: right;\">\n",
       "      <th></th>\n",
       "      <th>day</th>\n",
       "      <th>name</th>\n",
       "      <th>status</th>\n",
       "      <th>cid</th>\n",
       "    </tr>\n",
       "  </thead>\n",
       "  <tbody>\n",
       "    <tr>\n",
       "      <th>0</th>\n",
       "      <td>Wednesday</td>\n",
       "      <td>EMILY JOHNSON</td>\n",
       "      <td>active</td>\n",
       "      <td>abc12345</td>\n",
       "    </tr>\n",
       "    <tr>\n",
       "      <th>1</th>\n",
       "      <td>Wednesday</td>\n",
       "      <td>EMILY JOHNSON</td>\n",
       "      <td>active</td>\n",
       "      <td>abc12789</td>\n",
       "    </tr>\n",
       "    <tr>\n",
       "      <th>2</th>\n",
       "      <td>Friday</td>\n",
       "      <td>MARK THOMPSON</td>\n",
       "      <td>pending</td>\n",
       "      <td>67890</td>\n",
       "    </tr>\n",
       "    <tr>\n",
       "      <th>3</th>\n",
       "      <td>Saturday</td>\n",
       "      <td>MARIA RODRIGUEZ</td>\n",
       "      <td>inactive</td>\n",
       "      <td>AB12C</td>\n",
       "    </tr>\n",
       "    <tr>\n",
       "      <th>4</th>\n",
       "      <td>Sunday</td>\n",
       "      <td>DAVID LEE</td>\n",
       "      <td>active</td>\n",
       "      <td>34567</td>\n",
       "    </tr>\n",
       "    <tr>\n",
       "      <th>5</th>\n",
       "      <td>Tuesday</td>\n",
       "      <td>SAMANTHA SMITH</td>\n",
       "      <td>pending</td>\n",
       "      <td>DEFGH</td>\n",
       "    </tr>\n",
       "    <tr>\n",
       "      <th>6</th>\n",
       "      <td>Monday</td>\n",
       "      <td>MICHAEL CHEN</td>\n",
       "      <td>inactive</td>\n",
       "      <td>IJKL0</td>\n",
       "    </tr>\n",
       "    <tr>\n",
       "      <th>7</th>\n",
       "      <td>Thursday</td>\n",
       "      <td>OLIVIA MARTINEZ</td>\n",
       "      <td>active</td>\n",
       "      <td>MNOQP</td>\n",
       "    </tr>\n",
       "  </tbody>\n",
       "</table>\n",
       "</div>"
      ],
      "text/plain": [
       "         day             name    status       cid\n",
       "0  Wednesday    EMILY JOHNSON    active  abc12345\n",
       "1  Wednesday    EMILY JOHNSON    active  abc12789\n",
       "2     Friday    MARK THOMPSON   pending     67890\n",
       "3   Saturday  MARIA RODRIGUEZ  inactive     AB12C\n",
       "4     Sunday        DAVID LEE    active     34567\n",
       "5    Tuesday   SAMANTHA SMITH   pending     DEFGH\n",
       "6     Monday     MICHAEL CHEN  inactive     IJKL0\n",
       "7   Thursday  OLIVIA MARTINEZ    active     MNOQP"
      ]
     },
     "execution_count": 43,
     "metadata": {},
     "output_type": "execute_result"
    }
   ],
   "source": [
    "data[\"day\"].apply(lambda x: x + \"deleted\" if x == \"Friday\" else x)\n",
    "data"
   ]
  },
  {
   "cell_type": "code",
   "execution_count": null,
   "metadata": {},
   "outputs": [],
   "source": []
  }
 ],
 "metadata": {
  "kernelspec": {
   "display_name": "lanqiao-ai",
   "language": "python",
   "name": "python3"
  },
  "language_info": {
   "codemirror_mode": {
    "name": "ipython",
    "version": 3
   },
   "file_extension": ".py",
   "mimetype": "text/x-python",
   "name": "python",
   "nbconvert_exporter": "python",
   "pygments_lexer": "ipython3",
   "version": "3.8.19"
  }
 },
 "nbformat": 4,
 "nbformat_minor": 2
}
