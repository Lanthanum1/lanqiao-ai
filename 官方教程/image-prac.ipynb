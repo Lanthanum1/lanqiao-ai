{
 "cells": [
  {
   "cell_type": "code",
   "execution_count": 1,
   "metadata": {},
   "outputs": [
    {
     "ename": "ImportError",
     "evalue": "DLL load failed while importing cv2: 找不到指定的模块。",
     "output_type": "error",
     "traceback": [
      "\u001b[1;31m---------------------------------------------------------------------------\u001b[0m",
      "\u001b[1;31mImportError\u001b[0m                               Traceback (most recent call last)",
      "Cell \u001b[1;32mIn[1], line 1\u001b[0m\n\u001b[1;32m----> 1\u001b[0m \u001b[38;5;28;01mimport\u001b[39;00m \u001b[38;5;21;01mcv2\u001b[39;00m\n",
      "\u001b[1;31mImportError\u001b[0m: DLL load failed while importing cv2: 找不到指定的模块。"
     ]
    }
   ],
   "source": [
    "import cv2"
   ]
  },
  {
   "cell_type": "code",
   "execution_count": null,
   "metadata": {},
   "outputs": [],
   "source": [
    "height, width = image.shape[:2]\n",
    "# (y, x)"
   ]
  },
  {
   "cell_type": "code",
   "execution_count": null,
   "metadata": {},
   "outputs": [],
   "source": [
    "# 翻转\n",
    "turn = cv2.flip(image, 1)\n",
    "# 1:关于y轴对称\n",
    "# 0:关于x轴对称\n",
    "# -1:关于原点对称\n",
    "cv2.imwrite(\"turn3.jpg\", turn)"
   ]
  },
  {
   "cell_type": "code",
   "execution_count": null,
   "metadata": {},
   "outputs": [],
   "source": [
    "M = image1.shape\n",
    "x = np.ones(M, dtype = \"uint8\")\n",
    "x = x * 150\n",
    "# 对图片中的每个像素值进行相加运算\n",
    "# 像素值变得更大，数值接近 255 所以图片看起来更亮\n",
    "sums = cv2.add(image1, x)\n",
    "# 对图片中的每个像素值进行相减运算\n",
    "sub = cv2.subtract(image1, x)"
   ]
  }
 ],
 "metadata": {
  "kernelspec": {
   "display_name": "lanqiao-ai",
   "language": "python",
   "name": "python3"
  },
  "language_info": {
   "codemirror_mode": {
    "name": "ipython",
    "version": 3
   },
   "file_extension": ".py",
   "mimetype": "text/x-python",
   "name": "python",
   "nbconvert_exporter": "python",
   "pygments_lexer": "ipython3",
   "version": "3.8.19"
  }
 },
 "nbformat": 4,
 "nbformat_minor": 2
}
