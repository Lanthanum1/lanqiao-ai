{
 "cells": [
  {
   "cell_type": "code",
   "execution_count": 1,
   "metadata": {},
   "outputs": [],
   "source": [
    "import pandas as pd"
   ]
  },
  {
   "cell_type": "code",
   "execution_count": 37,
   "metadata": {},
   "outputs": [
    {
     "data": {
      "text/html": [
       "<div>\n",
       "<style scoped>\n",
       "    .dataframe tbody tr th:only-of-type {\n",
       "        vertical-align: middle;\n",
       "    }\n",
       "\n",
       "    .dataframe tbody tr th {\n",
       "        vertical-align: top;\n",
       "    }\n",
       "\n",
       "    .dataframe thead th {\n",
       "        text-align: right;\n",
       "    }\n",
       "</style>\n",
       "<table border=\"1\" class=\"dataframe\">\n",
       "  <thead>\n",
       "    <tr style=\"text-align: right;\">\n",
       "      <th></th>\n",
       "      <th>day</th>\n",
       "      <th>name</th>\n",
       "      <th>status</th>\n",
       "      <th>cid</th>\n",
       "    </tr>\n",
       "  </thead>\n",
       "  <tbody>\n",
       "    <tr>\n",
       "      <th>0</th>\n",
       "      <td>Wednesday</td>\n",
       "      <td>Emily Johnson</td>\n",
       "      <td>active</td>\n",
       "      <td>abc12345</td>\n",
       "    </tr>\n",
       "    <tr>\n",
       "      <th>1</th>\n",
       "      <td>Wednesday</td>\n",
       "      <td>Emily Johnson</td>\n",
       "      <td>active</td>\n",
       "      <td>abc12789</td>\n",
       "    </tr>\n",
       "    <tr>\n",
       "      <th>2</th>\n",
       "      <td>Friday</td>\n",
       "      <td>Mark Thompson</td>\n",
       "      <td>pending</td>\n",
       "      <td>67890</td>\n",
       "    </tr>\n",
       "    <tr>\n",
       "      <th>3</th>\n",
       "      <td>Saturday</td>\n",
       "      <td>Maria Rodriguez</td>\n",
       "      <td>inactive</td>\n",
       "      <td>AB12C</td>\n",
       "    </tr>\n",
       "    <tr>\n",
       "      <th>4</th>\n",
       "      <td>Sunday</td>\n",
       "      <td>David Lee</td>\n",
       "      <td>active</td>\n",
       "      <td>34567</td>\n",
       "    </tr>\n",
       "    <tr>\n",
       "      <th>5</th>\n",
       "      <td>Tuesday</td>\n",
       "      <td>Samantha Smith</td>\n",
       "      <td>pending</td>\n",
       "      <td>DEFGH</td>\n",
       "    </tr>\n",
       "    <tr>\n",
       "      <th>6</th>\n",
       "      <td>Monday</td>\n",
       "      <td>Michael Chen</td>\n",
       "      <td>inactive</td>\n",
       "      <td>IJKL0</td>\n",
       "    </tr>\n",
       "    <tr>\n",
       "      <th>7</th>\n",
       "      <td>Thursday</td>\n",
       "      <td>Olivia Martinez</td>\n",
       "      <td>active</td>\n",
       "      <td>MNOQP</td>\n",
       "    </tr>\n",
       "  </tbody>\n",
       "</table>\n",
       "</div>"
      ],
      "text/plain": [
       "         day             name    status       cid\n",
       "0  Wednesday    Emily Johnson    active  abc12345\n",
       "1  Wednesday    Emily Johnson    active  abc12789\n",
       "2     Friday    Mark Thompson   pending     67890\n",
       "3   Saturday  Maria Rodriguez  inactive     AB12C\n",
       "4     Sunday        David Lee    active     34567\n",
       "5    Tuesday   Samantha Smith   pending     DEFGH\n",
       "6     Monday     Michael Chen  inactive     IJKL0\n",
       "7   Thursday  Olivia Martinez    active     MNOQP"
      ]
     },
     "execution_count": 37,
     "metadata": {},
     "output_type": "execute_result"
    }
   ],
   "source": [
    "data = pd.read_csv('demo-data.csv')\n",
    "data"
   ]
  },
  {
   "cell_type": "code",
   "execution_count": 14,
   "metadata": {},
   "outputs": [
    {
     "data": {
      "text/plain": [
       "Index(['day', 'name', 'status', 'cid'], dtype='object')"
      ]
     },
     "execution_count": 14,
     "metadata": {},
     "output_type": "execute_result"
    }
   ],
   "source": [
    "data.columns # 这里要注意定义列名前面不要有空格"
   ]
  },
  {
   "cell_type": "code",
   "execution_count": 26,
   "metadata": {},
   "outputs": [],
   "source": [
    "data[\"name_upper\"] = data[\"name\"].str.upper()"
   ]
  },
  {
   "cell_type": "code",
   "execution_count": 25,
   "metadata": {},
   "outputs": [
    {
     "data": {
      "text/html": [
       "<div>\n",
       "<style scoped>\n",
       "    .dataframe tbody tr th:only-of-type {\n",
       "        vertical-align: middle;\n",
       "    }\n",
       "\n",
       "    .dataframe tbody tr th {\n",
       "        vertical-align: top;\n",
       "    }\n",
       "\n",
       "    .dataframe thead th {\n",
       "        text-align: right;\n",
       "    }\n",
       "</style>\n",
       "<table border=\"1\" class=\"dataframe\">\n",
       "  <thead>\n",
       "    <tr style=\"text-align: right;\">\n",
       "      <th></th>\n",
       "      <th>day</th>\n",
       "      <th>name</th>\n",
       "      <th>status</th>\n",
       "      <th>cid</th>\n",
       "    </tr>\n",
       "  </thead>\n",
       "  <tbody>\n",
       "    <tr>\n",
       "      <th>0</th>\n",
       "      <td>Wednesday</td>\n",
       "      <td>Emily Johnson</td>\n",
       "      <td>active</td>\n",
       "      <td>12345</td>\n",
       "    </tr>\n",
       "    <tr>\n",
       "      <th>1</th>\n",
       "      <td>Wednesday</td>\n",
       "      <td>Emily Johnson</td>\n",
       "      <td>active</td>\n",
       "      <td>12789</td>\n",
       "    </tr>\n",
       "    <tr>\n",
       "      <th>2</th>\n",
       "      <td>Friday</td>\n",
       "      <td>Mark Thompson</td>\n",
       "      <td>pending</td>\n",
       "      <td>67890</td>\n",
       "    </tr>\n",
       "    <tr>\n",
       "      <th>3</th>\n",
       "      <td>Saturday</td>\n",
       "      <td>Maria Rodriguez</td>\n",
       "      <td>inactive</td>\n",
       "      <td>AB12C</td>\n",
       "    </tr>\n",
       "    <tr>\n",
       "      <th>4</th>\n",
       "      <td>Sunday</td>\n",
       "      <td>David Lee</td>\n",
       "      <td>active</td>\n",
       "      <td>34567</td>\n",
       "    </tr>\n",
       "    <tr>\n",
       "      <th>5</th>\n",
       "      <td>Tuesday</td>\n",
       "      <td>Samantha Smith</td>\n",
       "      <td>pending</td>\n",
       "      <td>DEFGH</td>\n",
       "    </tr>\n",
       "    <tr>\n",
       "      <th>6</th>\n",
       "      <td>Monday</td>\n",
       "      <td>Michael Chen</td>\n",
       "      <td>inactive</td>\n",
       "      <td>IJKL0</td>\n",
       "    </tr>\n",
       "    <tr>\n",
       "      <th>7</th>\n",
       "      <td>Thursday</td>\n",
       "      <td>Olivia Martinez</td>\n",
       "      <td>active</td>\n",
       "      <td>MNOQP</td>\n",
       "    </tr>\n",
       "  </tbody>\n",
       "</table>\n",
       "</div>"
      ],
      "text/plain": [
       "         day              name     status     cid\n",
       "0  Wednesday     Emily Johnson     active   12345\n",
       "1  Wednesday     Emily Johnson     active   12789\n",
       "2     Friday     Mark Thompson    pending   67890\n",
       "3   Saturday   Maria Rodriguez   inactive   AB12C\n",
       "4     Sunday         David Lee     active   34567\n",
       "5    Tuesday    Samantha Smith    pending   DEFGH\n",
       "6     Monday      Michael Chen   inactive   IJKL0\n",
       "7   Thursday   Olivia Martinez     active   MNOQP"
      ]
     },
     "execution_count": 25,
     "metadata": {},
     "output_type": "execute_result"
    }
   ],
   "source": [
    "data"
   ]
  },
  {
   "cell_type": "code",
   "execution_count": 19,
   "metadata": {},
   "outputs": [
    {
     "data": {
      "text/html": [
       "<div>\n",
       "<style scoped>\n",
       "    .dataframe tbody tr th:only-of-type {\n",
       "        vertical-align: middle;\n",
       "    }\n",
       "\n",
       "    .dataframe tbody tr th {\n",
       "        vertical-align: top;\n",
       "    }\n",
       "\n",
       "    .dataframe thead th {\n",
       "        text-align: right;\n",
       "    }\n",
       "</style>\n",
       "<table border=\"1\" class=\"dataframe\">\n",
       "  <thead>\n",
       "    <tr style=\"text-align: right;\">\n",
       "      <th></th>\n",
       "      <th>day</th>\n",
       "      <th>name</th>\n",
       "      <th>status</th>\n",
       "      <th>cid</th>\n",
       "      <th>name_upper</th>\n",
       "      <th>name_upper_strip</th>\n",
       "    </tr>\n",
       "  </thead>\n",
       "  <tbody>\n",
       "    <tr>\n",
       "      <th>0</th>\n",
       "      <td>Wednesday</td>\n",
       "      <td>Emily Johnson</td>\n",
       "      <td>active</td>\n",
       "      <td>12345</td>\n",
       "      <td>EMILY JOHNSON</td>\n",
       "      <td>EMILY JOHNSON</td>\n",
       "    </tr>\n",
       "    <tr>\n",
       "      <th>1</th>\n",
       "      <td>Friday</td>\n",
       "      <td>Mark Thompson</td>\n",
       "      <td>pending</td>\n",
       "      <td>67890</td>\n",
       "      <td>MARK THOMPSON</td>\n",
       "      <td>MARK THOMPSON</td>\n",
       "    </tr>\n",
       "    <tr>\n",
       "      <th>2</th>\n",
       "      <td>Saturday</td>\n",
       "      <td>Maria Rodriguez</td>\n",
       "      <td>inactive</td>\n",
       "      <td>AB12C</td>\n",
       "      <td>MARIA RODRIGUEZ</td>\n",
       "      <td>MARIA RODRIGUEZ</td>\n",
       "    </tr>\n",
       "    <tr>\n",
       "      <th>3</th>\n",
       "      <td>Sunday</td>\n",
       "      <td>David Lee</td>\n",
       "      <td>active</td>\n",
       "      <td>34567</td>\n",
       "      <td>DAVID LEE</td>\n",
       "      <td>DAVID LEE</td>\n",
       "    </tr>\n",
       "    <tr>\n",
       "      <th>4</th>\n",
       "      <td>Tuesday</td>\n",
       "      <td>Samantha Smith</td>\n",
       "      <td>pending</td>\n",
       "      <td>DEFGH</td>\n",
       "      <td>SAMANTHA SMITH</td>\n",
       "      <td>SAMANTHA SMITH</td>\n",
       "    </tr>\n",
       "    <tr>\n",
       "      <th>5</th>\n",
       "      <td>Monday</td>\n",
       "      <td>Michael Chen</td>\n",
       "      <td>inactive</td>\n",
       "      <td>IJKL0</td>\n",
       "      <td>MICHAEL CHEN</td>\n",
       "      <td>MICHAEL CHEN</td>\n",
       "    </tr>\n",
       "    <tr>\n",
       "      <th>6</th>\n",
       "      <td>Thursday</td>\n",
       "      <td>Olivia Martinez</td>\n",
       "      <td>active</td>\n",
       "      <td>MNOQP</td>\n",
       "      <td>OLIVIA MARTINEZ</td>\n",
       "      <td>OLIVIA MARTINEZ</td>\n",
       "    </tr>\n",
       "  </tbody>\n",
       "</table>\n",
       "</div>"
      ],
      "text/plain": [
       "         day              name     status     cid        name_upper  \\\n",
       "0  Wednesday     Emily Johnson     active   12345     EMILY JOHNSON   \n",
       "1     Friday     Mark Thompson    pending   67890     MARK THOMPSON   \n",
       "2   Saturday   Maria Rodriguez   inactive   AB12C   MARIA RODRIGUEZ   \n",
       "3     Sunday         David Lee     active   34567         DAVID LEE   \n",
       "4    Tuesday    Samantha Smith    pending   DEFGH    SAMANTHA SMITH   \n",
       "5     Monday      Michael Chen   inactive   IJKL0      MICHAEL CHEN   \n",
       "6   Thursday   Olivia Martinez     active   MNOQP   OLIVIA MARTINEZ   \n",
       "\n",
       "  name_upper_strip  \n",
       "0    EMILY JOHNSON  \n",
       "1    MARK THOMPSON  \n",
       "2  MARIA RODRIGUEZ  \n",
       "3        DAVID LEE  \n",
       "4   SAMANTHA SMITH  \n",
       "5     MICHAEL CHEN  \n",
       "6  OLIVIA MARTINEZ  "
      ]
     },
     "execution_count": 19,
     "metadata": {},
     "output_type": "execute_result"
    }
   ],
   "source": [
    "data[\"name_upper_strip\"] = data[\"name_upper\"].str.strip()\n",
    "data"
   ]
  },
  {
   "cell_type": "code",
   "execution_count": 20,
   "metadata": {},
   "outputs": [
    {
     "data": {
      "text/plain": [
       "['EMILY JOHNSON',\n",
       " 'MARK THOMPSON',\n",
       " 'MARIA RODRIGUEZ',\n",
       " 'DAVID LEE',\n",
       " 'SAMANTHA SMITH',\n",
       " 'MICHAEL CHEN',\n",
       " 'OLIVIA MARTINEZ']"
      ]
     },
     "execution_count": 20,
     "metadata": {},
     "output_type": "execute_result"
    }
   ],
   "source": [
    "data[\"name_upper_strip\"].tolist()"
   ]
  },
  {
   "cell_type": "code",
   "execution_count": 32,
   "metadata": {},
   "outputs": [
    {
     "data": {
      "text/plain": [
       "0     True\n",
       "1     True\n",
       "2    False\n",
       "3    False\n",
       "4    False\n",
       "5    False\n",
       "6    False\n",
       "7    False\n",
       "Name: cid, dtype: bool"
      ]
     },
     "execution_count": 32,
     "metadata": {},
     "output_type": "execute_result"
    }
   ],
   "source": [
    "data[\"cid\"].str.startswith(\"abc\")"
   ]
  },
  {
   "cell_type": "code",
   "execution_count": 33,
   "metadata": {},
   "outputs": [
    {
     "data": {
      "text/plain": [
       "0    Wednesnight\n",
       "1    Wednesnight\n",
       "2       Frinight\n",
       "3     Saturnight\n",
       "4       Sunnight\n",
       "5      Tuesnight\n",
       "6       Monnight\n",
       "7     Thursnight\n",
       "Name: day, dtype: object"
      ]
     },
     "execution_count": 33,
     "metadata": {},
     "output_type": "execute_result"
    }
   ],
   "source": [
    "data[\"day\"].str.replace(\"day\", \"night\")"
   ]
  },
  {
   "cell_type": "code",
   "execution_count": 34,
   "metadata": {},
   "outputs": [
    {
     "data": {
      "text/html": [
       "<div>\n",
       "<style scoped>\n",
       "    .dataframe tbody tr th:only-of-type {\n",
       "        vertical-align: middle;\n",
       "    }\n",
       "\n",
       "    .dataframe tbody tr th {\n",
       "        vertical-align: top;\n",
       "    }\n",
       "\n",
       "    .dataframe thead th {\n",
       "        text-align: right;\n",
       "    }\n",
       "</style>\n",
       "<table border=\"1\" class=\"dataframe\">\n",
       "  <thead>\n",
       "    <tr style=\"text-align: right;\">\n",
       "      <th></th>\n",
       "      <th>day</th>\n",
       "      <th>name</th>\n",
       "      <th>status</th>\n",
       "      <th>cid</th>\n",
       "    </tr>\n",
       "  </thead>\n",
       "  <tbody>\n",
       "    <tr>\n",
       "      <th>0</th>\n",
       "      <td>Wednesday</td>\n",
       "      <td>Emily Johnson</td>\n",
       "      <td>1</td>\n",
       "      <td>abc12345</td>\n",
       "    </tr>\n",
       "    <tr>\n",
       "      <th>1</th>\n",
       "      <td>Wednesday</td>\n",
       "      <td>Emily Johnson</td>\n",
       "      <td>1</td>\n",
       "      <td>abc12789</td>\n",
       "    </tr>\n",
       "    <tr>\n",
       "      <th>2</th>\n",
       "      <td>Friday</td>\n",
       "      <td>Mark Thompson</td>\n",
       "      <td>pending</td>\n",
       "      <td>67890</td>\n",
       "    </tr>\n",
       "    <tr>\n",
       "      <th>3</th>\n",
       "      <td>Saturday</td>\n",
       "      <td>Maria Rodriguez</td>\n",
       "      <td>0</td>\n",
       "      <td>AB12C</td>\n",
       "    </tr>\n",
       "    <tr>\n",
       "      <th>4</th>\n",
       "      <td>Sunday</td>\n",
       "      <td>David Lee</td>\n",
       "      <td>1</td>\n",
       "      <td>34567</td>\n",
       "    </tr>\n",
       "    <tr>\n",
       "      <th>5</th>\n",
       "      <td>Tuesday</td>\n",
       "      <td>Samantha Smith</td>\n",
       "      <td>pending</td>\n",
       "      <td>DEFGH</td>\n",
       "    </tr>\n",
       "    <tr>\n",
       "      <th>6</th>\n",
       "      <td>Monday</td>\n",
       "      <td>Michael Chen</td>\n",
       "      <td>0</td>\n",
       "      <td>IJKL0</td>\n",
       "    </tr>\n",
       "    <tr>\n",
       "      <th>7</th>\n",
       "      <td>Thursday</td>\n",
       "      <td>Olivia Martinez</td>\n",
       "      <td>1</td>\n",
       "      <td>MNOQP</td>\n",
       "    </tr>\n",
       "  </tbody>\n",
       "</table>\n",
       "</div>"
      ],
      "text/plain": [
       "         day              name   status       cid\n",
       "0  Wednesday     Emily Johnson        1  abc12345\n",
       "1  Wednesday     Emily Johnson        1  abc12789\n",
       "2     Friday     Mark Thompson  pending     67890\n",
       "3   Saturday   Maria Rodriguez        0     AB12C\n",
       "4     Sunday         David Lee        1     34567\n",
       "5    Tuesday    Samantha Smith  pending     DEFGH\n",
       "6     Monday      Michael Chen        0     IJKL0\n",
       "7   Thursday   Olivia Martinez        1     MNOQP"
      ]
     },
     "execution_count": 34,
     "metadata": {},
     "output_type": "execute_result"
    }
   ],
   "source": [
    "data.replace({\"active\":1, \"inactive\":0})"
   ]
  },
  {
   "cell_type": "code",
   "execution_count": 38,
   "metadata": {},
   "outputs": [
    {
     "data": {
      "text/plain": [
       "['Emily Johnson',\n",
       " 'Emily Johnson',\n",
       " 'Mark Thompson',\n",
       " 'Maria Rodriguez',\n",
       " 'David Lee',\n",
       " 'Samantha Smith',\n",
       " 'Michael Chen',\n",
       " 'Olivia Martinez']"
      ]
     },
     "execution_count": 38,
     "metadata": {},
     "output_type": "execute_result"
    }
   ],
   "source": [
    "data[\"name\"].tolist()"
   ]
  },
  {
   "cell_type": "code",
   "execution_count": 39,
   "metadata": {},
   "outputs": [],
   "source": [
    "data[[\"name0\", \"name1\"]] = data[\"name\"].str.split(\" \", expand = True)"
   ]
  },
  {
   "cell_type": "code",
   "execution_count": 40,
   "metadata": {},
   "outputs": [
    {
     "data": {
      "text/html": [
       "<div>\n",
       "<style scoped>\n",
       "    .dataframe tbody tr th:only-of-type {\n",
       "        vertical-align: middle;\n",
       "    }\n",
       "\n",
       "    .dataframe tbody tr th {\n",
       "        vertical-align: top;\n",
       "    }\n",
       "\n",
       "    .dataframe thead th {\n",
       "        text-align: right;\n",
       "    }\n",
       "</style>\n",
       "<table border=\"1\" class=\"dataframe\">\n",
       "  <thead>\n",
       "    <tr style=\"text-align: right;\">\n",
       "      <th></th>\n",
       "      <th>day</th>\n",
       "      <th>name</th>\n",
       "      <th>status</th>\n",
       "      <th>cid</th>\n",
       "      <th>name0</th>\n",
       "      <th>name1</th>\n",
       "    </tr>\n",
       "  </thead>\n",
       "  <tbody>\n",
       "    <tr>\n",
       "      <th>0</th>\n",
       "      <td>Wednesday</td>\n",
       "      <td>Emily Johnson</td>\n",
       "      <td>active</td>\n",
       "      <td>abc12345</td>\n",
       "      <td>Emily</td>\n",
       "      <td>Johnson</td>\n",
       "    </tr>\n",
       "    <tr>\n",
       "      <th>1</th>\n",
       "      <td>Wednesday</td>\n",
       "      <td>Emily Johnson</td>\n",
       "      <td>active</td>\n",
       "      <td>abc12789</td>\n",
       "      <td>Emily</td>\n",
       "      <td>Johnson</td>\n",
       "    </tr>\n",
       "    <tr>\n",
       "      <th>2</th>\n",
       "      <td>Friday</td>\n",
       "      <td>Mark Thompson</td>\n",
       "      <td>pending</td>\n",
       "      <td>67890</td>\n",
       "      <td>Mark</td>\n",
       "      <td>Thompson</td>\n",
       "    </tr>\n",
       "    <tr>\n",
       "      <th>3</th>\n",
       "      <td>Saturday</td>\n",
       "      <td>Maria Rodriguez</td>\n",
       "      <td>inactive</td>\n",
       "      <td>AB12C</td>\n",
       "      <td>Maria</td>\n",
       "      <td>Rodriguez</td>\n",
       "    </tr>\n",
       "    <tr>\n",
       "      <th>4</th>\n",
       "      <td>Sunday</td>\n",
       "      <td>David Lee</td>\n",
       "      <td>active</td>\n",
       "      <td>34567</td>\n",
       "      <td>David</td>\n",
       "      <td>Lee</td>\n",
       "    </tr>\n",
       "    <tr>\n",
       "      <th>5</th>\n",
       "      <td>Tuesday</td>\n",
       "      <td>Samantha Smith</td>\n",
       "      <td>pending</td>\n",
       "      <td>DEFGH</td>\n",
       "      <td>Samantha</td>\n",
       "      <td>Smith</td>\n",
       "    </tr>\n",
       "    <tr>\n",
       "      <th>6</th>\n",
       "      <td>Monday</td>\n",
       "      <td>Michael Chen</td>\n",
       "      <td>inactive</td>\n",
       "      <td>IJKL0</td>\n",
       "      <td>Michael</td>\n",
       "      <td>Chen</td>\n",
       "    </tr>\n",
       "    <tr>\n",
       "      <th>7</th>\n",
       "      <td>Thursday</td>\n",
       "      <td>Olivia Martinez</td>\n",
       "      <td>active</td>\n",
       "      <td>MNOQP</td>\n",
       "      <td>Olivia</td>\n",
       "      <td>Martinez</td>\n",
       "    </tr>\n",
       "  </tbody>\n",
       "</table>\n",
       "</div>"
      ],
      "text/plain": [
       "         day             name    status       cid     name0      name1\n",
       "0  Wednesday    Emily Johnson    active  abc12345     Emily    Johnson\n",
       "1  Wednesday    Emily Johnson    active  abc12789     Emily    Johnson\n",
       "2     Friday    Mark Thompson   pending     67890      Mark   Thompson\n",
       "3   Saturday  Maria Rodriguez  inactive     AB12C     Maria  Rodriguez\n",
       "4     Sunday        David Lee    active     34567     David        Lee\n",
       "5    Tuesday   Samantha Smith   pending     DEFGH  Samantha      Smith\n",
       "6     Monday     Michael Chen  inactive     IJKL0   Michael       Chen\n",
       "7   Thursday  Olivia Martinez    active     MNOQP    Olivia   Martinez"
      ]
     },
     "execution_count": 40,
     "metadata": {},
     "output_type": "execute_result"
    }
   ],
   "source": [
    "data"
   ]
  },
  {
   "cell_type": "code",
   "execution_count": 41,
   "metadata": {},
   "outputs": [
    {
     "data": {
      "text/plain": [
       "0    Wednesday night\n",
       "1    Wednesday night\n",
       "2             Friday\n",
       "3           Saturday\n",
       "4             Sunday\n",
       "5            Tuesday\n",
       "6             Monday\n",
       "7           Thursday\n",
       "Name: day, dtype: object"
      ]
     },
     "execution_count": 41,
     "metadata": {},
     "output_type": "execute_result"
    }
   ],
   "source": [
    "data[\"day\"].apply(lambda x: x + \" night\" if x == \"Wednesday\" else x)"
   ]
  }
 ],
 "metadata": {
  "kernelspec": {
   "display_name": "lanqiao-ai-py38",
   "language": "python",
   "name": "python3"
  },
  "language_info": {
   "codemirror_mode": {
    "name": "ipython",
    "version": 3
   },
   "file_extension": ".py",
   "mimetype": "text/x-python",
   "name": "python",
   "nbconvert_exporter": "python",
   "pygments_lexer": "ipython3",
   "version": "3.8.18"
  }
 },
 "nbformat": 4,
 "nbformat_minor": 2
}
