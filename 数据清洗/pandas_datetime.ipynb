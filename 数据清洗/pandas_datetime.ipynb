{
 "cells": [
  {
   "cell_type": "code",
   "execution_count": 2,
   "metadata": {},
   "outputs": [],
   "source": [
    "import pandas as pd"
   ]
  },
  {
   "cell_type": "code",
   "execution_count": 3,
   "metadata": {},
   "outputs": [
    {
     "data": {
      "text/html": [
       "<div>\n",
       "<style scoped>\n",
       "    .dataframe tbody tr th:only-of-type {\n",
       "        vertical-align: middle;\n",
       "    }\n",
       "\n",
       "    .dataframe tbody tr th {\n",
       "        vertical-align: top;\n",
       "    }\n",
       "\n",
       "    .dataframe thead th {\n",
       "        text-align: right;\n",
       "    }\n",
       "</style>\n",
       "<table border=\"1\" class=\"dataframe\">\n",
       "  <thead>\n",
       "    <tr style=\"text-align: right;\">\n",
       "      <th></th>\n",
       "      <th>informal-date</th>\n",
       "    </tr>\n",
       "  </thead>\n",
       "  <tbody>\n",
       "    <tr>\n",
       "      <th>0</th>\n",
       "      <td>2024-04-25test10:00:00</td>\n",
       "    </tr>\n",
       "    <tr>\n",
       "      <th>1</th>\n",
       "      <td>2024-05-01test12:30:15</td>\n",
       "    </tr>\n",
       "    <tr>\n",
       "      <th>2</th>\n",
       "      <td>2024-05-15test15:45:00</td>\n",
       "    </tr>\n",
       "    <tr>\n",
       "      <th>3</th>\n",
       "      <td>2024-06-01test09:00:00</td>\n",
       "    </tr>\n",
       "    <tr>\n",
       "      <th>4</th>\n",
       "      <td>2024-06-30test17:59:59</td>\n",
       "    </tr>\n",
       "  </tbody>\n",
       "</table>\n",
       "</div>"
      ],
      "text/plain": [
       "            informal-date\n",
       "0  2024-04-25test10:00:00\n",
       "1  2024-05-01test12:30:15\n",
       "2  2024-05-15test15:45:00\n",
       "3  2024-06-01test09:00:00\n",
       "4  2024-06-30test17:59:59"
      ]
     },
     "execution_count": 3,
     "metadata": {},
     "output_type": "execute_result"
    }
   ],
   "source": [
    "data = pd.read_csv('date-demo.csv')\n",
    "data"
   ]
  },
  {
   "cell_type": "code",
   "execution_count": 5,
   "metadata": {},
   "outputs": [],
   "source": [
    "data[\"formal-date\"]=pd.to_datetime(data[\"informal-date\"], format='%Y-%m-%dtest%H:%M:%S', errors='coerce')"
   ]
  },
  {
   "cell_type": "code",
   "execution_count": 6,
   "metadata": {},
   "outputs": [
    {
     "data": {
      "text/html": [
       "<div>\n",
       "<style scoped>\n",
       "    .dataframe tbody tr th:only-of-type {\n",
       "        vertical-align: middle;\n",
       "    }\n",
       "\n",
       "    .dataframe tbody tr th {\n",
       "        vertical-align: top;\n",
       "    }\n",
       "\n",
       "    .dataframe thead th {\n",
       "        text-align: right;\n",
       "    }\n",
       "</style>\n",
       "<table border=\"1\" class=\"dataframe\">\n",
       "  <thead>\n",
       "    <tr style=\"text-align: right;\">\n",
       "      <th></th>\n",
       "      <th>informal-date</th>\n",
       "      <th>formal-date</th>\n",
       "    </tr>\n",
       "  </thead>\n",
       "  <tbody>\n",
       "    <tr>\n",
       "      <th>0</th>\n",
       "      <td>2024-04-25test10:00:00</td>\n",
       "      <td>2024-04-25 10:00:00</td>\n",
       "    </tr>\n",
       "    <tr>\n",
       "      <th>1</th>\n",
       "      <td>2024-05-01test12:30:15</td>\n",
       "      <td>2024-05-01 12:30:15</td>\n",
       "    </tr>\n",
       "    <tr>\n",
       "      <th>2</th>\n",
       "      <td>2024-05-15test15:45:00</td>\n",
       "      <td>2024-05-15 15:45:00</td>\n",
       "    </tr>\n",
       "    <tr>\n",
       "      <th>3</th>\n",
       "      <td>2024-06-01test09:00:00</td>\n",
       "      <td>2024-06-01 09:00:00</td>\n",
       "    </tr>\n",
       "    <tr>\n",
       "      <th>4</th>\n",
       "      <td>2024-06-30test17:59:59</td>\n",
       "      <td>2024-06-30 17:59:59</td>\n",
       "    </tr>\n",
       "  </tbody>\n",
       "</table>\n",
       "</div>"
      ],
      "text/plain": [
       "            informal-date         formal-date\n",
       "0  2024-04-25test10:00:00 2024-04-25 10:00:00\n",
       "1  2024-05-01test12:30:15 2024-05-01 12:30:15\n",
       "2  2024-05-15test15:45:00 2024-05-15 15:45:00\n",
       "3  2024-06-01test09:00:00 2024-06-01 09:00:00\n",
       "4  2024-06-30test17:59:59 2024-06-30 17:59:59"
      ]
     },
     "execution_count": 6,
     "metadata": {},
     "output_type": "execute_result"
    }
   ],
   "source": [
    "data"
   ]
  },
  {
   "cell_type": "code",
   "execution_count": 7,
   "metadata": {},
   "outputs": [],
   "source": [
    "data[\"hour\"] = data[\"formal-date\"].dt.hour"
   ]
  },
  {
   "cell_type": "code",
   "execution_count": 8,
   "metadata": {},
   "outputs": [
    {
     "data": {
      "text/html": [
       "<div>\n",
       "<style scoped>\n",
       "    .dataframe tbody tr th:only-of-type {\n",
       "        vertical-align: middle;\n",
       "    }\n",
       "\n",
       "    .dataframe tbody tr th {\n",
       "        vertical-align: top;\n",
       "    }\n",
       "\n",
       "    .dataframe thead th {\n",
       "        text-align: right;\n",
       "    }\n",
       "</style>\n",
       "<table border=\"1\" class=\"dataframe\">\n",
       "  <thead>\n",
       "    <tr style=\"text-align: right;\">\n",
       "      <th></th>\n",
       "      <th>informal-date</th>\n",
       "      <th>formal-date</th>\n",
       "      <th>hour</th>\n",
       "    </tr>\n",
       "  </thead>\n",
       "  <tbody>\n",
       "    <tr>\n",
       "      <th>0</th>\n",
       "      <td>2024-04-25test10:00:00</td>\n",
       "      <td>2024-04-25 10:00:00</td>\n",
       "      <td>10</td>\n",
       "    </tr>\n",
       "    <tr>\n",
       "      <th>1</th>\n",
       "      <td>2024-05-01test12:30:15</td>\n",
       "      <td>2024-05-01 12:30:15</td>\n",
       "      <td>12</td>\n",
       "    </tr>\n",
       "    <tr>\n",
       "      <th>2</th>\n",
       "      <td>2024-05-15test15:45:00</td>\n",
       "      <td>2024-05-15 15:45:00</td>\n",
       "      <td>15</td>\n",
       "    </tr>\n",
       "    <tr>\n",
       "      <th>3</th>\n",
       "      <td>2024-06-01test09:00:00</td>\n",
       "      <td>2024-06-01 09:00:00</td>\n",
       "      <td>9</td>\n",
       "    </tr>\n",
       "    <tr>\n",
       "      <th>4</th>\n",
       "      <td>2024-06-30test17:59:59</td>\n",
       "      <td>2024-06-30 17:59:59</td>\n",
       "      <td>17</td>\n",
       "    </tr>\n",
       "  </tbody>\n",
       "</table>\n",
       "</div>"
      ],
      "text/plain": [
       "            informal-date         formal-date  hour\n",
       "0  2024-04-25test10:00:00 2024-04-25 10:00:00    10\n",
       "1  2024-05-01test12:30:15 2024-05-01 12:30:15    12\n",
       "2  2024-05-15test15:45:00 2024-05-15 15:45:00    15\n",
       "3  2024-06-01test09:00:00 2024-06-01 09:00:00     9\n",
       "4  2024-06-30test17:59:59 2024-06-30 17:59:59    17"
      ]
     },
     "execution_count": 8,
     "metadata": {},
     "output_type": "execute_result"
    }
   ],
   "source": [
    "data"
   ]
  },
  {
   "cell_type": "code",
   "execution_count": 15,
   "metadata": {},
   "outputs": [
    {
     "data": {
      "text/html": [
       "<div>\n",
       "<style scoped>\n",
       "    .dataframe tbody tr th:only-of-type {\n",
       "        vertical-align: middle;\n",
       "    }\n",
       "\n",
       "    .dataframe tbody tr th {\n",
       "        vertical-align: top;\n",
       "    }\n",
       "\n",
       "    .dataframe thead th {\n",
       "        text-align: right;\n",
       "    }\n",
       "</style>\n",
       "<table border=\"1\" class=\"dataframe\">\n",
       "  <thead>\n",
       "    <tr style=\"text-align: right;\">\n",
       "      <th></th>\n",
       "      <th>informal-date</th>\n",
       "      <th>formal-date</th>\n",
       "      <th>hour</th>\n",
       "      <th>plus-5-hours</th>\n",
       "    </tr>\n",
       "  </thead>\n",
       "  <tbody>\n",
       "    <tr>\n",
       "      <th>0</th>\n",
       "      <td>2024-04-25test10:00:00</td>\n",
       "      <td>2024-04-25 10:00:00</td>\n",
       "      <td>10</td>\n",
       "      <td>2024-04-25 15:00:00</td>\n",
       "    </tr>\n",
       "    <tr>\n",
       "      <th>1</th>\n",
       "      <td>2024-05-01test12:30:15</td>\n",
       "      <td>2024-05-01 12:30:15</td>\n",
       "      <td>12</td>\n",
       "      <td>2024-05-01 17:30:15</td>\n",
       "    </tr>\n",
       "    <tr>\n",
       "      <th>2</th>\n",
       "      <td>2024-05-15test15:45:00</td>\n",
       "      <td>2024-05-15 15:45:00</td>\n",
       "      <td>15</td>\n",
       "      <td>2024-05-15 20:45:00</td>\n",
       "    </tr>\n",
       "    <tr>\n",
       "      <th>3</th>\n",
       "      <td>2024-06-01test09:00:00</td>\n",
       "      <td>2024-06-01 09:00:00</td>\n",
       "      <td>9</td>\n",
       "      <td>2024-06-01 14:00:00</td>\n",
       "    </tr>\n",
       "    <tr>\n",
       "      <th>4</th>\n",
       "      <td>2024-06-30test17:59:59</td>\n",
       "      <td>2024-06-30 17:59:59</td>\n",
       "      <td>17</td>\n",
       "      <td>2024-06-30 22:59:59</td>\n",
       "    </tr>\n",
       "  </tbody>\n",
       "</table>\n",
       "</div>"
      ],
      "text/plain": [
       "            informal-date         formal-date  hour        plus-5-hours\n",
       "0  2024-04-25test10:00:00 2024-04-25 10:00:00    10 2024-04-25 15:00:00\n",
       "1  2024-05-01test12:30:15 2024-05-01 12:30:15    12 2024-05-01 17:30:15\n",
       "2  2024-05-15test15:45:00 2024-05-15 15:45:00    15 2024-05-15 20:45:00\n",
       "3  2024-06-01test09:00:00 2024-06-01 09:00:00     9 2024-06-01 14:00:00\n",
       "4  2024-06-30test17:59:59 2024-06-30 17:59:59    17 2024-06-30 22:59:59"
      ]
     },
     "execution_count": 15,
     "metadata": {},
     "output_type": "execute_result"
    }
   ],
   "source": [
    "data[\"plus-5-hours\"] = data[\"formal-date\"] + pd.Timedelta(hours=5)\n",
    "data"
   ]
  },
  {
   "cell_type": "code",
   "execution_count": 16,
   "metadata": {},
   "outputs": [
    {
     "data": {
      "text/html": [
       "<div>\n",
       "<style scoped>\n",
       "    .dataframe tbody tr th:only-of-type {\n",
       "        vertical-align: middle;\n",
       "    }\n",
       "\n",
       "    .dataframe tbody tr th {\n",
       "        vertical-align: top;\n",
       "    }\n",
       "\n",
       "    .dataframe thead th {\n",
       "        text-align: right;\n",
       "    }\n",
       "</style>\n",
       "<table border=\"1\" class=\"dataframe\">\n",
       "  <thead>\n",
       "    <tr style=\"text-align: right;\">\n",
       "      <th></th>\n",
       "      <th>informal-date</th>\n",
       "      <th>formal-date</th>\n",
       "      <th>hour</th>\n",
       "      <th>plus-5-hours</th>\n",
       "      <th>plus-5-days</th>\n",
       "    </tr>\n",
       "  </thead>\n",
       "  <tbody>\n",
       "    <tr>\n",
       "      <th>0</th>\n",
       "      <td>2024-04-25test10:00:00</td>\n",
       "      <td>2024-04-25 10:00:00</td>\n",
       "      <td>10</td>\n",
       "      <td>2024-04-25 15:00:00</td>\n",
       "      <td>2024-04-30 10:00:00</td>\n",
       "    </tr>\n",
       "    <tr>\n",
       "      <th>1</th>\n",
       "      <td>2024-05-01test12:30:15</td>\n",
       "      <td>2024-05-01 12:30:15</td>\n",
       "      <td>12</td>\n",
       "      <td>2024-05-01 17:30:15</td>\n",
       "      <td>2024-05-06 12:30:15</td>\n",
       "    </tr>\n",
       "    <tr>\n",
       "      <th>2</th>\n",
       "      <td>2024-05-15test15:45:00</td>\n",
       "      <td>2024-05-15 15:45:00</td>\n",
       "      <td>15</td>\n",
       "      <td>2024-05-15 20:45:00</td>\n",
       "      <td>2024-05-20 15:45:00</td>\n",
       "    </tr>\n",
       "    <tr>\n",
       "      <th>3</th>\n",
       "      <td>2024-06-01test09:00:00</td>\n",
       "      <td>2024-06-01 09:00:00</td>\n",
       "      <td>9</td>\n",
       "      <td>2024-06-01 14:00:00</td>\n",
       "      <td>2024-06-06 09:00:00</td>\n",
       "    </tr>\n",
       "    <tr>\n",
       "      <th>4</th>\n",
       "      <td>2024-06-30test17:59:59</td>\n",
       "      <td>2024-06-30 17:59:59</td>\n",
       "      <td>17</td>\n",
       "      <td>2024-06-30 22:59:59</td>\n",
       "      <td>2024-07-05 17:59:59</td>\n",
       "    </tr>\n",
       "  </tbody>\n",
       "</table>\n",
       "</div>"
      ],
      "text/plain": [
       "            informal-date         formal-date  hour        plus-5-hours  \\\n",
       "0  2024-04-25test10:00:00 2024-04-25 10:00:00    10 2024-04-25 15:00:00   \n",
       "1  2024-05-01test12:30:15 2024-05-01 12:30:15    12 2024-05-01 17:30:15   \n",
       "2  2024-05-15test15:45:00 2024-05-15 15:45:00    15 2024-05-15 20:45:00   \n",
       "3  2024-06-01test09:00:00 2024-06-01 09:00:00     9 2024-06-01 14:00:00   \n",
       "4  2024-06-30test17:59:59 2024-06-30 17:59:59    17 2024-06-30 22:59:59   \n",
       "\n",
       "          plus-5-days  \n",
       "0 2024-04-30 10:00:00  \n",
       "1 2024-05-06 12:30:15  \n",
       "2 2024-05-20 15:45:00  \n",
       "3 2024-06-06 09:00:00  \n",
       "4 2024-07-05 17:59:59  "
      ]
     },
     "execution_count": 16,
     "metadata": {},
     "output_type": "execute_result"
    }
   ],
   "source": [
    "data[\"plus-5-days\"] = data[\"formal-date\"] + pd.Timedelta(days=5)\n",
    "data"
   ]
  },
  {
   "cell_type": "code",
   "execution_count": 17,
   "metadata": {},
   "outputs": [
    {
     "data": {
      "text/plain": [
       "0   5 days\n",
       "1   5 days\n",
       "2   5 days\n",
       "3   5 days\n",
       "4   5 days\n",
       "dtype: timedelta64[ns]"
      ]
     },
     "execution_count": 17,
     "metadata": {},
     "output_type": "execute_result"
    }
   ],
   "source": [
    "data[\"plus-5-days\"] - data[\"formal-date\"]"
   ]
  },
  {
   "cell_type": "code",
   "execution_count": 18,
   "metadata": {},
   "outputs": [
    {
     "data": {
      "text/plain": [
       "0    5\n",
       "1    5\n",
       "2    5\n",
       "3    5\n",
       "4    5\n",
       "dtype: int64"
      ]
     },
     "execution_count": 18,
     "metadata": {},
     "output_type": "execute_result"
    }
   ],
   "source": [
    "(data[\"plus-5-days\"] - data[\"formal-date\"]).dt.days"
   ]
  },
  {
   "cell_type": "code",
   "execution_count": 19,
   "metadata": {},
   "outputs": [
    {
     "data": {
      "text/plain": [
       "0   2024-04-25 11:00:00-04:00\n",
       "1   2024-05-01 13:30:15-04:00\n",
       "2   2024-05-15 16:45:00-04:00\n",
       "3   2024-06-01 10:00:00-04:00\n",
       "4   2024-06-30 18:59:59-04:00\n",
       "Name: formal-date, dtype: datetime64[ns, US/Eastern]"
      ]
     },
     "execution_count": 19,
     "metadata": {},
     "output_type": "execute_result"
    }
   ],
   "source": [
    "data[\"formal-date\"].dt.tz_localize('US/Central').dt.tz_convert('US/Eastern')"
   ]
  },
  {
   "cell_type": "code",
   "execution_count": 21,
   "metadata": {},
   "outputs": [],
   "source": [
    "data[\"US/Easter\"]=data[\"formal-date\"].dt.tz_localize('US/Central').dt.tz_convert('US/Eastern')"
   ]
  },
  {
   "cell_type": "code",
   "execution_count": 22,
   "metadata": {},
   "outputs": [
    {
     "data": {
      "text/html": [
       "<div>\n",
       "<style scoped>\n",
       "    .dataframe tbody tr th:only-of-type {\n",
       "        vertical-align: middle;\n",
       "    }\n",
       "\n",
       "    .dataframe tbody tr th {\n",
       "        vertical-align: top;\n",
       "    }\n",
       "\n",
       "    .dataframe thead th {\n",
       "        text-align: right;\n",
       "    }\n",
       "</style>\n",
       "<table border=\"1\" class=\"dataframe\">\n",
       "  <thead>\n",
       "    <tr style=\"text-align: right;\">\n",
       "      <th></th>\n",
       "      <th>informal-date</th>\n",
       "      <th>formal-date</th>\n",
       "      <th>hour</th>\n",
       "      <th>plus-5-hours</th>\n",
       "      <th>plus-5-days</th>\n",
       "      <th>US/Easter</th>\n",
       "    </tr>\n",
       "  </thead>\n",
       "  <tbody>\n",
       "    <tr>\n",
       "      <th>0</th>\n",
       "      <td>2024-04-25test10:00:00</td>\n",
       "      <td>2024-04-25 10:00:00</td>\n",
       "      <td>10</td>\n",
       "      <td>2024-04-25 15:00:00</td>\n",
       "      <td>2024-04-30 10:00:00</td>\n",
       "      <td>2024-04-25 11:00:00-04:00</td>\n",
       "    </tr>\n",
       "    <tr>\n",
       "      <th>1</th>\n",
       "      <td>2024-05-01test12:30:15</td>\n",
       "      <td>2024-05-01 12:30:15</td>\n",
       "      <td>12</td>\n",
       "      <td>2024-05-01 17:30:15</td>\n",
       "      <td>2024-05-06 12:30:15</td>\n",
       "      <td>2024-05-01 13:30:15-04:00</td>\n",
       "    </tr>\n",
       "    <tr>\n",
       "      <th>2</th>\n",
       "      <td>2024-05-15test15:45:00</td>\n",
       "      <td>2024-05-15 15:45:00</td>\n",
       "      <td>15</td>\n",
       "      <td>2024-05-15 20:45:00</td>\n",
       "      <td>2024-05-20 15:45:00</td>\n",
       "      <td>2024-05-15 16:45:00-04:00</td>\n",
       "    </tr>\n",
       "    <tr>\n",
       "      <th>3</th>\n",
       "      <td>2024-06-01test09:00:00</td>\n",
       "      <td>2024-06-01 09:00:00</td>\n",
       "      <td>9</td>\n",
       "      <td>2024-06-01 14:00:00</td>\n",
       "      <td>2024-06-06 09:00:00</td>\n",
       "      <td>2024-06-01 10:00:00-04:00</td>\n",
       "    </tr>\n",
       "    <tr>\n",
       "      <th>4</th>\n",
       "      <td>2024-06-30test17:59:59</td>\n",
       "      <td>2024-06-30 17:59:59</td>\n",
       "      <td>17</td>\n",
       "      <td>2024-06-30 22:59:59</td>\n",
       "      <td>2024-07-05 17:59:59</td>\n",
       "      <td>2024-06-30 18:59:59-04:00</td>\n",
       "    </tr>\n",
       "  </tbody>\n",
       "</table>\n",
       "</div>"
      ],
      "text/plain": [
       "            informal-date         formal-date  hour        plus-5-hours  \\\n",
       "0  2024-04-25test10:00:00 2024-04-25 10:00:00    10 2024-04-25 15:00:00   \n",
       "1  2024-05-01test12:30:15 2024-05-01 12:30:15    12 2024-05-01 17:30:15   \n",
       "2  2024-05-15test15:45:00 2024-05-15 15:45:00    15 2024-05-15 20:45:00   \n",
       "3  2024-06-01test09:00:00 2024-06-01 09:00:00     9 2024-06-01 14:00:00   \n",
       "4  2024-06-30test17:59:59 2024-06-30 17:59:59    17 2024-06-30 22:59:59   \n",
       "\n",
       "          plus-5-days                 US/Easter  \n",
       "0 2024-04-30 10:00:00 2024-04-25 11:00:00-04:00  \n",
       "1 2024-05-06 12:30:15 2024-05-01 13:30:15-04:00  \n",
       "2 2024-05-20 15:45:00 2024-05-15 16:45:00-04:00  \n",
       "3 2024-06-06 09:00:00 2024-06-01 10:00:00-04:00  \n",
       "4 2024-07-05 17:59:59 2024-06-30 18:59:59-04:00  "
      ]
     },
     "execution_count": 22,
     "metadata": {},
     "output_type": "execute_result"
    }
   ],
   "source": [
    "data"
   ]
  }
 ],
 "metadata": {
  "kernelspec": {
   "display_name": "lanqiao-ai-py38",
   "language": "python",
   "name": "python3"
  },
  "language_info": {
   "codemirror_mode": {
    "name": "ipython",
    "version": 3
   },
   "file_extension": ".py",
   "mimetype": "text/x-python",
   "name": "python",
   "nbconvert_exporter": "python",
   "pygments_lexer": "ipython3",
   "version": "3.8.18"
  }
 },
 "nbformat": 4,
 "nbformat_minor": 2
}
