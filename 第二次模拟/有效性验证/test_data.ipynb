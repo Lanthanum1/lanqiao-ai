{
 "cells": [
  {
   "cell_type": "code",
   "execution_count": 3,
   "metadata": {},
   "outputs": [],
   "source": [
    "import pickle\n",
    "import numpy as np\n",
    "import tensorflow as tf\n",
    "from tensorflow.keras.models import Sequential\n",
    "from tensorflow.keras.utils import to_categorical\n",
    "\n",
    "def load_data():\n",
    "\n",
    "    with open(\"dataset\", \"rb\") as f:\n",
    "        data = pickle.load(f, encoding=\"bytes\")\n",
    "\n",
    "        train_data = np.asarray(data[b'data'])\n",
    "        train_labels = data[b'labels'][:10]\n",
    "\n",
    "    train_data = train_data.reshape(-1, 3, 32, 32).transpose(0, 2, 3, 1)\n",
    "    train_labels = to_categorical(train_labels)\n",
    "    return train_data, train_labels"
   ]
  },
  {
   "cell_type": "code",
   "execution_count": 4,
   "metadata": {},
   "outputs": [
    {
     "name": "stdout",
     "output_type": "stream",
     "text": [
      "(10000, 32, 32, 3)\n"
     ]
    }
   ],
   "source": [
    "train_images, train_labels = load_data()\n",
    "print(train_images.shape)"
   ]
  }
 ],
 "metadata": {
  "kernelspec": {
   "display_name": "lanqiao-ai-py38",
   "language": "python",
   "name": "python3"
  },
  "language_info": {
   "codemirror_mode": {
    "name": "ipython",
    "version": 3
   },
   "file_extension": ".py",
   "mimetype": "text/x-python",
   "name": "python",
   "nbconvert_exporter": "python",
   "pygments_lexer": "ipython3",
   "version": "3.8.19"
  }
 },
 "nbformat": 4,
 "nbformat_minor": 2
}
